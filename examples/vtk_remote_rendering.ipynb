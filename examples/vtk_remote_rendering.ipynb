{
 "cells": [
  {
   "cell_type": "code",
   "execution_count": 2,
   "id": "b317598f-60fe-447e-b079-dea4c04fc05e",
   "metadata": {},
   "outputs": [],
   "source": [
    "from trame.app import get_server\n",
    "from trame.decorators import TrameApp, change\n",
    "from trame.widgets import vuetify, vtk as vtk_widgets\n",
    "from trame.ui.vuetify import SinglePageLayout\n",
    "\n",
    "from vtkmodules.vtkFiltersSources import vtkConeSource\n",
    "from vtkmodules.vtkRenderingCore import (\n",
    "    vtkRenderer,\n",
    "    vtkRenderWindow,\n",
    "    vtkRenderWindowInteractor,\n",
    "    vtkPolyDataMapper,\n",
    "    vtkActor,\n",
    ")\n",
    "\n",
    "# VTK factory initialization\n",
    "from vtkmodules.vtkInteractionStyle import vtkInteractorStyleSwitch  # noqa\n",
    "import vtkmodules.vtkRenderingOpenGL2  # noqa\n",
    "\n",
    "@TrameApp()\n",
    "class VTKCone:\n",
    "    def __init__(self, server_name=None):\n",
    "        self.server = get_server(server_name, client_type=\"vue2\")\n",
    "\n",
    "        # VTK\n",
    "        renderer = vtkRenderer()\n",
    "        renderWindow = vtkRenderWindow()\n",
    "        renderWindow.AddRenderer(renderer)\n",
    "        renderWindow.OffScreenRenderingOn()\n",
    "\n",
    "        renderWindowInteractor = vtkRenderWindowInteractor()\n",
    "        renderWindowInteractor.SetRenderWindow(renderWindow)\n",
    "        renderWindowInteractor.GetInteractorStyle().SetCurrentStyleToTrackballCamera()\n",
    "\n",
    "        cone_source = vtkConeSource()\n",
    "        mapper = vtkPolyDataMapper()\n",
    "        actor = vtkActor()\n",
    "        \n",
    "        mapper.SetInputConnection(cone_source.GetOutputPort())\n",
    "        actor.SetMapper(mapper)\n",
    "        renderer.AddActor(actor)\n",
    "        renderer.ResetCamera()\n",
    "\n",
    "        self.source = cone_source\n",
    "        self.render_window = renderWindow\n",
    "        \n",
    "        # UI\n",
    "        self.ui = self._generate_ui()\n",
    "\n",
    "    @change(\"resolution\")\n",
    "    def _on_resolution_change(self, resolution, **kwargs):\n",
    "        self.source.SetResolution(resolution)\n",
    "        self.ctrl.view_update()\n",
    "\n",
    "    @property\n",
    "    def ctrl(self):\n",
    "        return self.server.controller\n",
    "\n",
    "    @property\n",
    "    def state(self):\n",
    "        return self.server.state\n",
    "\n",
    "    @property\n",
    "    def resolution(self):\n",
    "        return self.state.resolution\n",
    "\n",
    "    @resolution.setter\n",
    "    def resolution(self, v):\n",
    "        with self.state:\n",
    "            self.state.resolution = v\n",
    "\n",
    "    def reset_resolution(self):\n",
    "        self.resolution = 6\n",
    "\n",
    "    def _generate_ui(self):\n",
    "        with SinglePageLayout(self.server) as layout:\n",
    "            layout.title.set_text(\"VTK Rendering\")\n",
    "            with layout.toolbar as toolbar:\n",
    "                toolbar.dense = True\n",
    "                vuetify.VSpacer()\n",
    "                vuetify.VSlider(\n",
    "                    v_model=(\"resolution\", 6),\n",
    "                    min=3,\n",
    "                    max=60,\n",
    "                    step=1,\n",
    "                    hide_details=True,\n",
    "                    style=\"max-width: 300px;\",\n",
    "                )\n",
    "                with vuetify.VBtn(icon=True, click=self.reset_resolution):\n",
    "                    vuetify.VIcon(\"mdi-lock-reset\")\n",
    "                with vuetify.VBtn(icon=True, click=self.ctrl.view_reset_camera):\n",
    "                    vuetify.VIcon(\"mdi-crop-free\")\n",
    "\n",
    "            with layout.content:\n",
    "                with vuetify.VContainer(fluid=True, classes=\"pa-0 fill-height\"):\n",
    "                    with vtk_widgets.VtkRemoteView(self.render_window) as view:\n",
    "                        self.ctrl.view_reset_camera = view.reset_camera\n",
    "                        self.ctrl.view_update = view.update\n",
    "\n",
    "            return layout\n"
   ]
  },
  {
   "cell_type": "code",
   "execution_count": 3,
   "id": "976b1ec6-b229-49e2-a31d-3e1a5b4cf788",
   "metadata": {},
   "outputs": [
    {
     "data": {
      "text/html": [
       "<iframe id=\"vtk_trame__template_main\" src=\"/trame-jupyter-server/vue2/index.html?ui=main&server=vtk&wsProxy&reconnect=auto\" data-kernel-id=\"318eca6d-4263-413e-9da2-ee15a8929f69\" style=\"border: none; width: 100%; height: 600px;\"></iframe>"
      ]
     },
     "metadata": {},
     "output_type": "display_data"
    }
   ],
   "source": [
    "c2 = VTKCone(\"vtk\")\n",
    "await c2.ui.ready\n",
    "c2.ui"
   ]
  },
  {
   "cell_type": "code",
   "execution_count": 4,
   "id": "44ce031e-5322-4147-bd25-0b8377a6f447",
   "metadata": {},
   "outputs": [
    {
     "data": {
      "text/html": [
       "<iframe id=\"vtk_trame__template_main\" src=\"/trame-jupyter-server/vue2/index.html?ui=main&server=vtk&wsProxy&reconnect=auto\" data-kernel-id=\"318eca6d-4263-413e-9da2-ee15a8929f69\" style=\"border: none; width: 100%; height: 600px;\"></iframe>"
      ]
     },
     "metadata": {},
     "output_type": "display_data"
    }
   ],
   "source": [
    "c2.ui"
   ]
  },
  {
   "cell_type": "code",
   "execution_count": null,
   "id": "d26ed46f-1363-45de-ba37-a58a025049e8",
   "metadata": {},
   "outputs": [],
   "source": []
  }
 ],
 "metadata": {
  "kernelspec": {
   "display_name": "Python 3 (ipykernel)",
   "language": "python",
   "name": "python3"
  },
  "language_info": {
   "codemirror_mode": {
    "name": "ipython",
    "version": 3
   },
   "file_extension": ".py",
   "mimetype": "text/x-python",
   "name": "python",
   "nbconvert_exporter": "python",
   "pygments_lexer": "ipython3",
   "version": "3.9.18"
  }
 },
 "nbformat": 4,
 "nbformat_minor": 5
}
