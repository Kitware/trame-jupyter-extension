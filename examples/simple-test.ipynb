{
 "cells": [
  {
   "cell_type": "code",
   "execution_count": 1,
   "id": "9e4d04e3-eeec-40a5-b3a6-0780a59cf99e",
   "metadata": {},
   "outputs": [
    {
     "name": "stdout",
     "output_type": "stream",
     "text": [
      "http://localhost:8888/trame-jupyter-server/servers/trame/index.html?ui=main&server=trame&wsProxy&reconnect=auto\n"
     ]
    },
    {
     "data": {
      "text/html": [
       "<iframe id=\"trame_trame__template_main\" src=\"http://localhost:8888/trame-jupyter-server/servers/trame/index.html?ui=main&server=trame&wsProxy&reconnect=auto\" style=\"height: 200px; width: 100%; border: none;\" data-kernel-id=\"5dbccb26-b949-4493-8dee-d619dda4b05f\"></iframe>"
      ]
     },
     "metadata": {},
     "output_type": "display_data"
    }
   ],
   "source": [
    "from trame.app.demo import Cone\n",
    "cone = Cone()\n",
    "await cone.ui.ready\n",
    "cone.ui.iframe_style = \"height: 200px; width: 100%; border: none;\"\n",
    "\n",
    "print(cone.ui._jupyter_content().split('src=\"').pop().split('\"')[0])\n",
    "\n",
    "cone.ui"
   ]
  },
  {
   "cell_type": "code",
   "execution_count": null,
   "id": "0ad6f9b2-dc6d-44b7-be88-b5c3ec9785ce",
   "metadata": {},
   "outputs": [],
   "source": []
  }
 ],
 "metadata": {
  "kernelspec": {
   "display_name": "Python 3 (ipykernel)",
   "language": "python",
   "name": "python3"
  },
  "language_info": {
   "codemirror_mode": {
    "name": "ipython",
    "version": 3
   },
   "file_extension": ".py",
   "mimetype": "text/x-python",
   "name": "python",
   "nbconvert_exporter": "python",
   "pygments_lexer": "ipython3",
   "version": "3.10.14"
  }
 },
 "nbformat": 4,
 "nbformat_minor": 5
}
