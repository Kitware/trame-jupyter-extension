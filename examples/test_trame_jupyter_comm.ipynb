{
 "cells": [
  {
   "cell_type": "code",
   "execution_count": null,
   "id": "673a6706-b7b9-407a-aa63-46c664f131e0",
   "metadata": {
    "tags": []
   },
   "outputs": [],
   "source": [
    "import os\n",
    "\n",
    "for key in os.environ:\n",
    "   if \"TRAME_\" in key:\n",
    "      print(f\"{key}={os.environ[key]}\")\n",
    "      "
   ]
  },
  {
   "cell_type": "code",
   "execution_count": null,
   "id": "fb77731b-bdb5-4df4-88ff-0d7c11e77a4d",
   "metadata": {
    "tags": []
   },
   "outputs": [],
   "source": [
    "# import os\n",
    "# os.environ[\"TRAME_DISABLE_V3_WARNING\"] = \"1\"\n",
    "# os.environ[\"TRAME_IFRAME_BUILDER\"] = \"jupyter-extension\"\n",
    "# os.environ[\"TRAME_BACKEND\"] = \"jupyter\""
   ]
  },
  {
   "cell_type": "code",
   "execution_count": null,
   "id": "ce8d1a4b-7a08-4645-9c62-6d0acebce26d",
   "metadata": {
    "tags": []
   },
   "outputs": [],
   "source": [
    "from trame.app.demo import Cone"
   ]
  },
  {
   "cell_type": "code",
   "execution_count": null,
   "id": "1a884c45-a925-4bb9-97d6-dc8e2cde906a",
   "metadata": {
    "tags": []
   },
   "outputs": [],
   "source": [
    "cone = Cone()\n",
    "await cone.ui.ready\n",
    "print(cone.ui._jupyter_content())\n",
    "cone.ui"
   ]
  },
  {
   "cell_type": "code",
   "execution_count": null,
   "id": "9830c4d6-63aa-4049-ac47-a2b9508256ea",
   "metadata": {
    "tags": []
   },
   "outputs": [],
   "source": [
    "cone.ui.iframe_style = \"height: 200px; width: 100%; border: none;\"\n",
    "cone.ui"
   ]
  },
  {
   "cell_type": "code",
   "execution_count": null,
   "id": "faf01f47-878d-44ad-ae2c-aa3c8d3952fd",
   "metadata": {},
   "outputs": [],
   "source": [
    "c2 = Cone(\"b\")\n",
    "await c2.ui.ready"
   ]
  },
  {
   "cell_type": "code",
   "execution_count": null,
   "id": "333a3a94-1e35-44ae-ba7c-76661eb00402",
   "metadata": {
    "tags": []
   },
   "outputs": [],
   "source": [
    "cone.resolution = 6"
   ]
  },
  {
   "cell_type": "code",
   "execution_count": null,
   "id": "e3db7491-09b2-4f9d-b48c-7b2b3703f22b",
   "metadata": {},
   "outputs": [],
   "source": []
  }
 ],
 "metadata": {
  "kernelspec": {
   "display_name": "Python 3 (ipykernel)",
   "language": "python",
   "name": "python3"
  },
  "language_info": {
   "codemirror_mode": {
    "name": "ipython",
    "version": 3
   },
   "file_extension": ".py",
   "mimetype": "text/x-python",
   "name": "python",
   "nbconvert_exporter": "python",
   "pygments_lexer": "ipython3",
   "version": "3.9.15"
  }
 },
 "nbformat": 4,
 "nbformat_minor": 5
}
