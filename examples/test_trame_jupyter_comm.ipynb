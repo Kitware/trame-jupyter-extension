{
 "cells": [
  {
   "cell_type": "code",
   "execution_count": null,
   "id": "5bbfe449-4bd7-497f-8ba7-d93f32f06b32",
   "metadata": {},
   "outputs": [],
   "source": [
    "import os\n",
    "\n",
    "for key in os.environ:\n",
    "   if \"TRAME_\" in key:\n",
    "      print(f\"{key}={os.environ[key]}\")"
   ]
  },
  {
   "cell_type": "code",
   "execution_count": null,
   "id": "fb77731b-bdb5-4df4-88ff-0d7c11e77a4d",
   "metadata": {},
   "outputs": [],
   "source": [
    "# import os\n",
    "# os.environ[\"TRAME_DISABLE_V3_WARNING\"] = \"1\"\n",
    "# os.environ[\"TRAME_IFRAME_BUILDER\"] = \"jupyter-extension\"\n",
    "# os.environ[\"TRAME_BACKEND\"] = \"jupyter\"\n",
    "\n",
    "os.environ[\"TRAME_IPYWIDGETS_DISABLE\"] = \"1\""
   ]
  },
  {
   "cell_type": "code",
   "execution_count": null,
   "id": "ce8d1a4b-7a08-4645-9c62-6d0acebce26d",
   "metadata": {},
   "outputs": [],
   "source": [
    "from trame.app.demo import Cone"
   ]
  },
  {
   "cell_type": "code",
   "execution_count": null,
   "id": "1a884c45-a925-4bb9-97d6-dc8e2cde906a",
   "metadata": {},
   "outputs": [],
   "source": [
    "cone = Cone()\n",
    "await cone.ui.ready\n",
    "print(cone.ui._jupyter_content())\n",
    "cone.ui"
   ]
  },
  {
   "cell_type": "code",
   "execution_count": null,
   "id": "9830c4d6-63aa-4049-ac47-a2b9508256ea",
   "metadata": {},
   "outputs": [],
   "source": [
    "cone.ui.iframe_style = \"height: 200px; width: 100%; border: none;\"\n",
    "cone.ui"
   ]
  },
  {
   "cell_type": "code",
   "execution_count": null,
   "id": "faf01f47-878d-44ad-ae2c-aa3c8d3952fd",
   "metadata": {},
   "outputs": [],
   "source": [
    "c2 = Cone(\"b\")\n",
    "await c2.ui.ready"
   ]
  },
  {
   "cell_type": "code",
   "execution_count": null,
   "id": "333a3a94-1e35-44ae-ba7c-76661eb00402",
   "metadata": {},
   "outputs": [],
   "source": [
    "cone.resolution = 6"
   ]
  },
  {
   "cell_type": "code",
   "execution_count": null,
   "id": "673a6706-b7b9-407a-aa63-46c664f131e0",
   "metadata": {},
   "outputs": [],
   "source": [
    "import ipywidgets as widgets\n",
    "widgets.IntSlider()"
   ]
  },
  {
   "cell_type": "code",
   "execution_count": null,
   "id": "e51605f9-afee-4cf3-9bcd-ceefe8f9fb94",
   "metadata": {},
   "outputs": [],
   "source": []
  }
 ],
 "metadata": {
  "kernelspec": {
   "display_name": "Python 3 (ipykernel)",
   "language": "python",
   "name": "python3"
  },
  "language_info": {
   "codemirror_mode": {
    "name": "ipython",
    "version": 3
   },
   "file_extension": ".py",
   "mimetype": "text/x-python",
   "name": "python",
   "nbconvert_exporter": "python",
   "pygments_lexer": "ipython3",
   "version": "3.9.15"
  }
 },
 "nbformat": 4,
 "nbformat_minor": 5
}
