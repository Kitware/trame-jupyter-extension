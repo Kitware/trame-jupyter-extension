{
 "cells": [
  {
   "cell_type": "code",
   "execution_count": null,
   "id": "45f18f4b-08c2-4160-ba0b-58180c32d7a0",
   "metadata": {},
   "outputs": [],
   "source": [
    "import matplotlib.pyplot as plt\n",
    "plt.plot([1,2,3,4])"
   ]
  },
  {
   "cell_type": "code",
   "execution_count": null,
   "id": "64e00c8c-e4fb-4e27-a32d-40756ee6b568",
   "metadata": {},
   "outputs": [],
   "source": [
    "from trame.app.demo import Cone\n",
    "\n",
    "app = Cone()\n",
    "await app.ui.ready\n",
    "\n",
    "app.ui"
   ]
  },
  {
   "cell_type": "code",
   "execution_count": null,
   "id": "057fbbfa-6e11-40a9-8c14-b9a1aaa37df0",
   "metadata": {},
   "outputs": [],
   "source": []
  }
 ],
 "metadata": {
  "kernelspec": {
   "display_name": "Python 3 (ipykernel)",
   "language": "python",
   "name": "python3"
  },
  "language_info": {
   "codemirror_mode": {
    "name": "ipython",
    "version": 3
   },
   "file_extension": ".py",
   "mimetype": "text/x-python",
   "name": "python",
   "nbconvert_exporter": "python",
   "pygments_lexer": "ipython3",
   "version": "3.10.14"
  }
 },
 "nbformat": 4,
 "nbformat_minor": 5
}
