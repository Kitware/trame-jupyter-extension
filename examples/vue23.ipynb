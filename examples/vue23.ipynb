{
 "cells": [
  {
   "cell_type": "code",
   "execution_count": 3,
   "id": "b19a1648-70c8-4d8a-bd6a-88815bcc893d",
   "metadata": {},
   "outputs": [],
   "source": [
    "from trame.app import get_server\n",
    "from trame.widgets import html\n",
    "from trame.ui.html import DivLayout\n",
    "\n",
    "class Slider:\n",
    "    def __init__(self, server_name):\n",
    "        self.server = get_server(server_name)\n",
    "\n",
    "    @property\n",
    "    def ui(self):\n",
    "        with DivLayout(self.server, height=\"45px\") as layout:\n",
    "            layout.root.style = \"display: flex;\"\n",
    "            html.Input(type=\"range\", v_model_number=(\"slider\", 5), min=1, max=100, step=1)\n",
    "            html.Div(\"{{ slider }}\")\n",
    "        return layout"
   ]
  },
  {
   "cell_type": "code",
   "execution_count": 4,
   "id": "20d6b7dc-3a86-4d6e-9b58-755cf65f2d66",
   "metadata": {},
   "outputs": [
    {
     "data": {
      "text/plain": [
       "True"
      ]
     },
     "execution_count": 4,
     "metadata": {},
     "output_type": "execute_result"
    }
   ],
   "source": [
    "server_vue2 = get_server(\"vue2\", client_type=\"vue2\")\n",
    "server_vue3 = get_server(\"vue3\", client_type=\"vue3\")\n",
    "\n",
    "s2 = Slider(server_vue2)\n",
    "s3 = Slider(server_vue3)\n",
    "\n",
    "await s2.ui.ready\n",
    "await s3.ui.ready"
   ]
  },
  {
   "cell_type": "code",
   "execution_count": 5,
   "id": "b54d2430-a95c-42a6-94de-83f1bdf13a7c",
   "metadata": {},
   "outputs": [
    {
     "data": {
      "text/html": [
       "<iframe id=\"vue2_trame__template_main\" src=\"http://localhost:8889/trame-jupyter-server/servers/vue2/index.html?ui=main&server=vue2&wsProxy&reconnect=auto\" data-kernel-id=\"248a576d-2f70-45d4-a473-8aa1a10c8ecf\" style=\"border: none; width: 100%; height: 45px;\"></iframe>"
      ]
     },
     "metadata": {},
     "output_type": "display_data"
    }
   ],
   "source": [
    "s2.ui"
   ]
  },
  {
   "cell_type": "code",
   "execution_count": 4,
   "id": "af3eeb7c-e45c-4c41-a766-723a3aae36d8",
   "metadata": {},
   "outputs": [
    {
     "data": {
      "text/html": [
       "<iframe id=\"vue3_trame__template_main\" src=\"/trame-jupyter-server/servers/vue3/index.html?ui=main&server=vue3&wsProxy&reconnect=auto\" data-kernel-id=\"065f5718-43b3-48dc-8969-7963f3c69fb6\" style=\"border: none; width: 100%; height: 45px;\"></iframe>"
      ]
     },
     "metadata": {},
     "output_type": "display_data"
    }
   ],
   "source": [
    "s3.ui"
   ]
  },
  {
   "cell_type": "code",
   "execution_count": 5,
   "id": "64c0e235-877b-461a-98d7-ff0fb9249fba",
   "metadata": {},
   "outputs": [
    {
     "data": {
      "application/vnd.jupyter.widget-view+json": {
       "model_id": "72d74d607d514241a10d6b13741966a8",
       "version_major": 2,
       "version_minor": 0
      },
      "text/plain": [
       "HBox(children=(HTML(value='<iframe id=\"vue2_trame__template_main\" src=\"/trame-jupyter-server/vue2/index.html?u…"
      ]
     },
     "execution_count": 5,
     "metadata": {},
     "output_type": "execute_result"
    }
   ],
   "source": [
    "from ipywidgets import HBox\n",
    "\n",
    "HBox([s2.ui.ipywidget, s3.ui.ipywidget, s2.ui.ipywidget, s3.ui.ipywidget])"
   ]
  },
  {
   "cell_type": "code",
   "execution_count": 6,
   "id": "a14a54c6-9634-4d04-a65d-8b4375d2a26d",
   "metadata": {},
   "outputs": [
    {
     "data": {
      "application/vnd.jupyter.widget-view+json": {
       "model_id": "67acaffc23b14bebae266db0a3c458a0",
       "version_major": 2,
       "version_minor": 0
      },
      "text/plain": [
       "IntSlider(value=7, continuous_update=False, description='Test:', max=10)"
      ]
     },
     "execution_count": 6,
     "metadata": {},
     "output_type": "execute_result"
    }
   ],
   "source": [
    "import ipywidgets as widgets\n",
    "\n",
    "widgets.IntSlider(\n",
    "    value=7,\n",
    "    min=0,\n",
    "    max=10,\n",
    "    step=1,\n",
    "    description='Test:',\n",
    "    disabled=False,\n",
    "    continuous_update=False,\n",
    "    orientation='horizontal',\n",
    "    readout=True,\n",
    "    readout_format='d'\n",
    ")"
   ]
  },
  {
   "cell_type": "code",
   "execution_count": 2,
   "id": "22ade450-dbb7-41cd-a8dd-7784b702044f",
   "metadata": {},
   "outputs": [
    {
     "name": "stdout",
     "output_type": "stream",
     "text": [
      "/var/folders/p_/hxjn_q0j2kg_16rfcdlc259hs_3p6n/T/tmpd726kgp5\n",
      "http://localhost:8889/trame-jupyter-server\n",
      "TRAME_DISABLE_V3_WARNING 1\n",
      "TRAME_IFRAME_BUILDER jupyter-extension\n",
      "TRAME_BACKEND jupyter\n",
      "TRAME_JUPYTER_EXTENSION /var/folders/p_/hxjn_q0j2kg_16rfcdlc259hs_3p6n/T/tmpd726kgp5\n",
      "TRAME_JUPYTER_WWW /var/folders/p_/hxjn_q0j2kg_16rfcdlc259hs_3p6n/T/tmpd726kgp5\n",
      "TRAME_JUPYTER_ENDPOINT http://localhost:8889/trame-jupyter-server\n"
     ]
    }
   ],
   "source": [
    "import os\n",
    "\n",
    "print(os.environ.get(\"TRAME_JUPYTER_WWW\"))\n",
    "print(os.environ.get(\"TRAME_JUPYTER_ENDPOINT\"))\n",
    "\n",
    "for key in os.environ:\n",
    "    if \"TRAME_\" in key:\n",
    "        print(key, os.environ.get(key))\n",
    "        "
   ]
  },
  {
   "cell_type": "code",
   "execution_count": null,
   "id": "eb35c430-923a-4288-b05b-508b9d1dd094",
   "metadata": {},
   "outputs": [],
   "source": []
  }
 ],
 "metadata": {
  "kernelspec": {
   "display_name": "Python 3 (ipykernel)",
   "language": "python",
   "name": "python3"
  },
  "language_info": {
   "codemirror_mode": {
    "name": "ipython",
    "version": 3
   },
   "file_extension": ".py",
   "mimetype": "text/x-python",
   "name": "python",
   "nbconvert_exporter": "python",
   "pygments_lexer": "ipython3",
   "version": "3.9.18"
  }
 },
 "nbformat": 4,
 "nbformat_minor": 5
}
